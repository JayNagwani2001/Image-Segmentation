{
 "cells": [
  {
   "cell_type": "code",
   "execution_count": null,
   "metadata": {},
   "outputs": [],
   "source": [
    "! pip install pixellib"
   ]
  },
  {
   "attachments": {},
   "cell_type": "markdown",
   "metadata": {},
   "source": [
    "#### Importing required Libraries"
   ]
  },
  {
   "cell_type": "code",
   "execution_count": 3,
   "metadata": {},
   "outputs": [
    {
     "name": "stderr",
     "output_type": "stream",
     "text": [
      "c:\\Users\\nagwa\\AppData\\Local\\Programs\\lib\\site-packages\\requests\\__init__.py:102: RequestsDependencyWarning: urllib3 (1.26.9) or chardet (5.1.0)/charset_normalizer (2.0.12) doesn't match a supported version!\n",
      "  warnings.warn(\"urllib3 ({}) or chardet ({})/charset_normalizer ({}) doesn't match a supported \"\n"
     ]
    }
   ],
   "source": [
    "import pixellib\n",
    "from pixellib.instance import instance_segmentation\n",
    "import cv2 as cv"
   ]
  },
  {
   "attachments": {},
   "cell_type": "markdown",
   "metadata": {},
   "source": [
    "##### Model Building"
   ]
  },
  {
   "cell_type": "code",
   "execution_count": null,
   "metadata": {},
   "outputs": [],
   "source": [
    "#model instance\n",
    "segmentation_model = instance_segmentation()\n",
    "\n",
    "#Adding weights of RCNN model trained on coco dataset\n",
    "segmentation_model.load_model('need to download from github-https://github.com/matterport/Mask_RCNN/releases')"
   ]
  },
  {
   "attachments": {},
   "cell_type": "markdown",
   "metadata": {},
   "source": [
    "### Real time capture"
   ]
  },
  {
   "cell_type": "code",
   "execution_count": 5,
   "metadata": {},
   "outputs": [],
   "source": [
    "#capturing from webcam\n",
    "capture = cv.VideoCapture(0)\n",
    "\n",
    "while capture.isOpened():\n",
    "    #reading frames from real time video\n",
    "    ret, frame = capture.read()\n",
    "\n",
    "    #Apply instance segmentation\n",
    "    result = segmentation_model.segmentFrame(frame, show_bboxes = True)\n",
    "    img = result[1]\n",
    "\n",
    "    #displaying segmented frames of real-time video\n",
    "    cv.imshow('image_instance', img)\n",
    "\n",
    "    # stop caturing video by pressing 's'\n",
    "    if cv.waitKey(10) & 0xFF==ord('s'):\n",
    "        break\n",
    "\n",
    "capture.release()\n",
    "cv.destroyAllWindows()"
   ]
  },
  {
   "cell_type": "code",
   "execution_count": null,
   "metadata": {},
   "outputs": [],
   "source": []
  }
 ],
 "metadata": {
  "kernelspec": {
   "display_name": "Python 3",
   "language": "python",
   "name": "python3"
  },
  "language_info": {
   "codemirror_mode": {
    "name": "ipython",
    "version": 3
   },
   "file_extension": ".py",
   "mimetype": "text/x-python",
   "name": "python",
   "nbconvert_exporter": "python",
   "pygments_lexer": "ipython3",
   "version": "3.10.4 (tags/v3.10.4:9d38120, Mar 23 2022, 23:13:41) [MSC v.1929 64 bit (AMD64)]"
  },
  "orig_nbformat": 4,
  "vscode": {
   "interpreter": {
    "hash": "983577f72fc06bc65713e09ae65e0eaedaf3d8813e5cb2cec989ac82935da485"
   }
  }
 },
 "nbformat": 4,
 "nbformat_minor": 2
}
